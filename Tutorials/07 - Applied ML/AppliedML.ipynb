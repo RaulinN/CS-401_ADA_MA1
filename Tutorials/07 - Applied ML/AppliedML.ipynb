{
 "cells": [
  {
   "cell_type": "markdown",
   "metadata": {},
   "source": [
    "## All you need is love… And a pet!\n",
    "\n",
    "<img src=\"img/dataset-cover.jpg\" width=\"920\">\n",
    "\n",
    "Here we are going to build a classifier to predict whether an animal from an animal shelter will be adopted or not (aac_intakes_outcomes.csv, available at: https://www.kaggle.com/aaronschlegel/austin-animal-center-shelter-intakes-and-outcomes/version/1#aac_intakes_outcomes.csv). You will be working with the following features:\n",
    "\n",
    "1. *animal_type:* Type of animal. May be one of 'cat', 'dog', 'bird', etc.\n",
    "2. *intake_year:* Year of intake\n",
    "3. *intake_condition:* The intake condition of the animal. Can be one of 'normal', 'injured', 'sick', etc.\n",
    "4. *intake_number:* The intake number denoting the number of occurrences the animal has been brought into the shelter. Values higher than 1 indicate the animal has been taken into the shelter on more than one occasion.\n",
    "5. *intake_type:* The type of intake, for example, 'stray', 'owner surrender', etc.\n",
    "6. *sex_upon_intake:* The gender of the animal and if it has been spayed or neutered at the time of intake\n",
    "7. *age_upon\\_intake_(years):* The age of the animal upon intake represented in years\n",
    "8. *time_in_shelter_days:* Numeric value denoting the number of days the animal remained at the shelter from intake to outcome.\n",
    "9. *sex_upon_outcome:* The gender of the animal and if it has been spayed or neutered at time of outcome\n",
    "10. *age_upon\\_outcome_(years):* The age of the animal upon outcome represented in years\n",
    "11. *outcome_type:* The outcome type. Can be one of ‘adopted’, ‘transferred’, etc."
   ]
  },
  {
   "cell_type": "code",
   "execution_count": 113,
   "metadata": {
    "tags": []
   },
   "outputs": [],
   "source": [
    "import numpy as np\n",
    "import matplotlib.pyplot as plt\n",
    "import pandas as pd\n",
    "import scipy as sp\n",
    "from itertools import combinations \n",
    "import ast\n",
    "from sklearn.linear_model import LogisticRegression\n",
    "import seaborn as sn\n",
    "%matplotlib inline\n",
    "\n",
    "data_folder = './data/'\n",
    "\n",
    "pd.options.mode.chained_assignment = None  # default='warn'"
   ]
  },
  {
   "cell_type": "markdown",
   "metadata": {},
   "source": [
    "A) Load the dataset and convert categorical features to a suitable numerical representation (use dummy-variable encoding). \n",
    "- Split the data into a training set (80%) and a test set (20%). Pair each feature vector with the corresponding label, i.e., whether the outcome_type is adoption or not. \n",
    "- Standardize the values of each feature in the data to have mean 0 and variance 1.\n",
    "\n",
    "The use of external libraries is not permitted in part A, except for numpy and pandas. \n",
    "You can drop entries with missing values."
   ]
  },
  {
   "cell_type": "code",
   "execution_count": 114,
   "metadata": {
    "tags": []
   },
   "outputs": [],
   "source": [
    "columns_cat = ['animal_type', 'intake_condition', 'intake_type', 'sex_upon_intake', 'sex_upon_outcome']\n",
    "columns_con = ['intake_year', 'intake_number', 'age_upon_intake_(years)', 'time_in_shelter_days', 'age_upon_outcome_(years)']\n",
    "# Note : original_data['sex_upon_outcome'].value_counts() is useful to determine if cat or con\n",
    "\n",
    "columns_in = columns_cat + columns_con\n",
    "columns_out = ['outcome_type']\n",
    "\n",
    "columns = columns_in + columns_out\n",
    "\n",
    "original_data = pd.read_csv(data_folder+'aac_intakes_outcomes.csv', usecols=columns)\n",
    "\n",
    "df = original_data.dropna()"
   ]
  },
  {
   "cell_type": "code",
   "execution_count": 115,
   "metadata": {},
   "outputs": [
    {
     "name": "stdout",
     "output_type": "stream",
     "text": [
      "Adoption           33594\n",
      "Transfer           23799\n",
      "Return to Owner    14790\n",
      "Euthanasia          6244\n",
      "Died                 690\n",
      "Disposal             304\n",
      "Rto-Adopt            179\n",
      "Missing               46\n",
      "Relocate              15\n",
      "Name: outcome_type, dtype: int64\n",
      "0    46067\n",
      "1    33594\n",
      "Name: adopted, dtype: int64\n"
     ]
    }
   ],
   "source": [
    "# Standardize the outcome\n",
    "print(df.outcome_type.value_counts())\n",
    "\n",
    "df['adopted'] = df.outcome_type.apply(lambda typ: 1 if typ == 'Adoption' else 0)\n",
    "df = df.drop('outcome_type', axis = 1)\n",
    "columns_out = ['adopted']\n",
    "columns = columns_in + columns_out\n",
    "\n",
    "print(df.adopted.value_counts())"
   ]
  },
  {
   "cell_type": "code",
   "execution_count": 116,
   "metadata": {},
   "outputs": [],
   "source": [
    "# Standardizing continuous variables\n",
    "for v in columns_con:\n",
    "    df[v] = (df[v] - df[v].mean())/df[v].std()"
   ]
  },
  {
   "cell_type": "code",
   "execution_count": 117,
   "metadata": {},
   "outputs": [
    {
     "data": {
      "text/plain": [
       "Index(['intake_year', 'intake_number', 'age_upon_intake_(years)',\n",
       "       'time_in_shelter_days', 'age_upon_outcome_(years)', 'adopted',\n",
       "       'animal_type_Bird', 'animal_type_Cat', 'animal_type_Dog',\n",
       "       'animal_type_Other', 'intake_condition_Aged', 'intake_condition_Feral',\n",
       "       'intake_condition_Injured', 'intake_condition_Normal',\n",
       "       'intake_condition_Nursing', 'intake_condition_Other',\n",
       "       'intake_condition_Pregnant', 'intake_condition_Sick',\n",
       "       'intake_type_Euthanasia Request', 'intake_type_Owner Surrender',\n",
       "       'intake_type_Public Assist', 'intake_type_Stray',\n",
       "       'intake_type_Wildlife', 'sex_upon_intake_Intact Female',\n",
       "       'sex_upon_intake_Intact Male', 'sex_upon_intake_Neutered Male',\n",
       "       'sex_upon_intake_Spayed Female', 'sex_upon_intake_Unknown',\n",
       "       'sex_upon_outcome_Intact Female', 'sex_upon_outcome_Intact Male',\n",
       "       'sex_upon_outcome_Neutered Male', 'sex_upon_outcome_Spayed Female',\n",
       "       'sex_upon_outcome_Unknown'],\n",
       "      dtype='object')"
      ]
     },
     "execution_count": 117,
     "metadata": {},
     "output_type": "execute_result"
    }
   ],
   "source": [
    "# Standardizing categorical variables\n",
    "df = pd.get_dummies(df[columns])\n",
    "df.columns"
   ]
  },
  {
   "cell_type": "code",
   "execution_count": 118,
   "metadata": {},
   "outputs": [
    {
     "data": {
      "text/plain": [
       "(79661, 79661, [False, False, True, True, True, False, True, True])"
      ]
     },
     "execution_count": 118,
     "metadata": {},
     "output_type": "execute_result"
    }
   ],
   "source": [
    "mask = [True] * (df.shape[0] // 5) + [False] * (df.shape[0] - df.shape[0] // 5)\n",
    "np.random.shuffle(mask)\n",
    "\n",
    "len(mask), len(df), mask[:8]"
   ]
  },
  {
   "cell_type": "code",
   "execution_count": 119,
   "metadata": {},
   "outputs": [
    {
     "data": {
      "text/plain": [
       "((79661, 32), (63729, 32), (15932, 32))"
      ]
     },
     "execution_count": 119,
     "metadata": {},
     "output_type": "execute_result"
    }
   ],
   "source": [
    "X = df.loc[:, df.columns != 'adopted']\n",
    "y = df['adopted']\n",
    "\n",
    "X_train, X_test = X[[not b for b in mask]], X[mask]\n",
    "y_train, y_test = y[[not b for b in mask]], y[mask]\n",
    "\n",
    "X.shape, X_train.shape, X_test.shape"
   ]
  },
  {
   "cell_type": "markdown",
   "metadata": {},
   "source": [
    "B) Train a logistic regression classifier on your training set. Logistic regression returns probabilities as predictions, so in order to arrive at a binary prediction, you need to put a threshold on the predicted probabilities. \n",
    "- For the decision threshold of 0.5, present the performance of your classifier on the test set by displaying the confusion matrix. Based on the confusion matrix, manually calculate accuracy, precision, recall, and F1-score with respect to the positive and the negative class. "
   ]
  },
  {
   "cell_type": "code",
   "execution_count": 120,
   "metadata": {
    "tags": []
   },
   "outputs": [
    {
     "data": {
      "text/plain": [
       "LogisticRegression(max_iter=10000)"
      ]
     },
     "execution_count": 120,
     "metadata": {},
     "output_type": "execute_result"
    }
   ],
   "source": [
    "logistic = LogisticRegression(solver='lbfgs', max_iter=10000)\n",
    "logistic.fit(X_train, y_train)"
   ]
  },
  {
   "cell_type": "code",
   "execution_count": 121,
   "metadata": {},
   "outputs": [],
   "source": [
    "prediction = logistic.predict_proba(X_test)"
   ]
  },
  {
   "cell_type": "code",
   "execution_count": 122,
   "metadata": {},
   "outputs": [],
   "source": [
    "# Stolen from solution\n",
    "def compute_confusion_matrix(true_label, prediction_proba, decision_threshold=0.5): \n",
    "    \n",
    "    predict_label = (prediction_proba[:,1]>decision_threshold).astype(int)   \n",
    "                                                                                                                       \n",
    "    TP = np.sum(np.logical_and(predict_label==1, true_label==1))\n",
    "    TN = np.sum(np.logical_and(predict_label==0, true_label==0))\n",
    "    FP = np.sum(np.logical_and(predict_label==1, true_label==0))\n",
    "    FN = np.sum(np.logical_and(predict_label==0, true_label==1))\n",
    "    \n",
    "    confusion_matrix = np.asarray([[TP, FP],\n",
    "                                    [FN, TN]])\n",
    "    return confusion_matrix\n",
    "\n",
    "\n",
    "def plot_confusion_matrix(confusion_matrix):\n",
    "    [[TP, FP],[FN, TN]] = confusion_matrix\n",
    "    label = np.asarray([['TP {}'.format(TP), 'FP {}'.format(FP)],\n",
    "                        ['FN {}'.format(FN), 'TN {}'.format(TN)]])\n",
    "    \n",
    "    df_cm = pd.DataFrame(confusion_matrix, index=['Yes', 'No'], columns=['Positive', 'Negative']) \n",
    "    \n",
    "    return sn.heatmap(df_cm, cmap='YlOrRd', annot=label, annot_kws={\"size\": 16}, cbar=False, fmt='')"
   ]
  },
  {
   "cell_type": "code",
   "execution_count": 123,
   "metadata": {},
   "outputs": [
    {
     "data": {
      "text/plain": [
       "Text(0.5, 1.0, 'Confusion matrix for a 0.5 threshold')"
      ]
     },
     "execution_count": 123,
     "metadata": {},
     "output_type": "execute_result"
    },
    {
     "data": {
      "image/png": "[encoded data removed]",
      "text/plain": [
       "<Figure size 432x288 with 1 Axes>"
      ]
     },
     "metadata": {
      "needs_background": "light"
     },
     "output_type": "display_data"
    }
   ],
   "source": [
    "t = 0.5\n",
    "\n",
    "confusion_matrix = compute_confusion_matrix(y_test, prediction, t)\n",
    "ax = plot_confusion_matrix(confusion_matrix)\n",
    "\n",
    "ax.set_xlabel('Actual')\n",
    "ax.set_ylabel('Predicted')\n",
    "ax.set_title(f'Confusion matrix for a {t} threshold')"
   ]
  },
  {
   "cell_type": "code",
   "execution_count": 124,
   "metadata": {},
   "outputs": [],
   "source": [
    "# Stolen from solution\n",
    "def compute_all_score(confusion_matrix, t = 0.5):\n",
    "    [[TP, FP],[FN, TN]] = confusion_matrix.astype(float)\n",
    "    \n",
    "    accuracy =  (TP + TN) / np.sum(confusion_matrix)\n",
    "    \n",
    "    precision_positive = TP / (TP + FP) if (TP + FP) != 0 else np.nan\n",
    "    precision_negative = TN / (TN + FN) if (TN + FN) != 0 else np.nan\n",
    "    \n",
    "    recall_positive = TP / (TP + FN) if (TP + FN) != 0 else np.nan\n",
    "    recall_negative = TN / (TN + FP) if (TN + FP) != 0 else np.nan\n",
    "\n",
    "    F1_score_positive = 2 *(precision_positive*recall_positive)/(precision_positive+recall_positive) if (precision_positive+recall_positive) !=0 else np.nan\n",
    "    F1_score_negative = 2 *(precision_negative*recall_negative)/(precision_negative+recall_negative) if (precision_negative+recall_negative) !=0 else np.nan\n",
    "\n",
    "    return [accuracy, precision_positive, recall_positive, F1_score_positive, precision_negative, recall_negative, F1_score_negative]"
   ]
  },
  {
   "cell_type": "code",
   "execution_count": 125,
   "metadata": {},
   "outputs": [
    {
     "name": "stdout",
     "output_type": "stream",
     "text": [
      "The accuracy of this model is 0.824\n",
      "For the positive case, the precision is 0.775, the recall is 0.821 and the F1 score is 0.797\n",
      "For the negative case, the precision is 0.864, the recall is 0.826 and the F1 score is 0.845\n"
     ]
    }
   ],
   "source": [
    "[accuracy, precision_positive, recall_positive, F1_score_positive, precision_negative, recall_negative, F1_score_negative] = compute_all_score(confusion_matrix)\n",
    "\n",
    "print(\"The accuracy of this model is {0:1.3f}\".format(accuracy))\n",
    "print(\"For the positive case, the precision is {0:1.3f}, the recall is {1:1.3f} and the F1 score is {2:1.3f}\"\\\n",
    "      .format(precision_positive, recall_positive, F1_score_positive))\n",
    "print(\"For the negative case, the precision is {0:1.3f}, the recall is {1:1.3f} and the F1 score is {2:1.3f}\"\\\n",
    "      .format(precision_negative, recall_negative, F1_score_negative))"
   ]
  },
  {
   "cell_type": "markdown",
   "metadata": {},
   "source": [
    "C) Vary the value of the threshold in the range from 0 to 1 and visualize the value of accuracy, precision, recall, and F1-score (with respect to both classes) as a function of the threshold."
   ]
  },
  {
   "cell_type": "code",
   "execution_count": 130,
   "metadata": {},
   "outputs": [],
   "source": [
    "columns_score = ['threshold', 'acc', 'precision_p', 'recall_p', 'f1_score_p', 'precision_n', 'recall_n', 'f1_score_n']"
   ]
  },
  {
   "cell_type": "code",
   "execution_count": 140,
   "metadata": {
    "tags": []
   },
   "outputs": [
    {
     "data": {
      "text/html": [
       "<div>\n",
       "<style scoped>\n",
       "    .dataframe tbody tr th:only-of-type {\n",
       "        vertical-align: middle;\n",
       "    }\n",
       "\n",
       "    .dataframe tbody tr th {\n",
       "        vertical-align: top;\n",
       "    }\n",
       "\n",
       "    .dataframe thead th {\n",
       "        text-align: right;\n",
       "    }\n",
       "</style>\n",
       "<table border=\"1\" class=\"dataframe\">\n",
       "  <thead>\n",
       "    <tr style=\"text-align: right;\">\n",
       "      <th></th>\n",
       "      <th>acc</th>\n",
       "      <th>precision_p</th>\n",
       "      <th>recall_p</th>\n",
       "      <th>f1_score_p</th>\n",
       "      <th>precision_n</th>\n",
       "      <th>recall_n</th>\n",
       "      <th>f1_score_n</th>\n",
       "    </tr>\n",
       "    <tr>\n",
       "      <th>threshold</th>\n",
       "      <th></th>\n",
       "      <th></th>\n",
       "      <th></th>\n",
       "      <th></th>\n",
       "      <th></th>\n",
       "      <th></th>\n",
       "      <th></th>\n",
       "    </tr>\n",
       "  </thead>\n",
       "  <tbody>\n",
       "    <tr>\n",
       "      <th>0.00</th>\n",
       "      <td>0.421102</td>\n",
       "      <td>0.421102</td>\n",
       "      <td>1.000000</td>\n",
       "      <td>0.592642</td>\n",
       "      <td>NaN</td>\n",
       "      <td>0.000000</td>\n",
       "      <td>NaN</td>\n",
       "    </tr>\n",
       "    <tr>\n",
       "      <th>0.01</th>\n",
       "      <td>0.488137</td>\n",
       "      <td>0.451346</td>\n",
       "      <td>0.999702</td>\n",
       "      <td>0.621911</td>\n",
       "      <td>0.998134</td>\n",
       "      <td>0.116014</td>\n",
       "      <td>0.207868</td>\n",
       "    </tr>\n",
       "    <tr>\n",
       "      <th>0.02</th>\n",
       "      <td>0.527994</td>\n",
       "      <td>0.471490</td>\n",
       "      <td>0.999553</td>\n",
       "      <td>0.640741</td>\n",
       "      <td>0.998245</td>\n",
       "      <td>0.184972</td>\n",
       "      <td>0.312111</td>\n",
       "    </tr>\n",
       "    <tr>\n",
       "      <th>0.03</th>\n",
       "      <td>0.541677</td>\n",
       "      <td>0.478817</td>\n",
       "      <td>0.998957</td>\n",
       "      <td>0.647349</td>\n",
       "      <td>0.996382</td>\n",
       "      <td>0.209043</td>\n",
       "      <td>0.345582</td>\n",
       "    </tr>\n",
       "    <tr>\n",
       "      <th>0.04</th>\n",
       "      <td>0.559440</td>\n",
       "      <td>0.488683</td>\n",
       "      <td>0.997615</td>\n",
       "      <td>0.656016</td>\n",
       "      <td>0.992844</td>\n",
       "      <td>0.240703</td>\n",
       "      <td>0.387468</td>\n",
       "    </tr>\n",
       "  </tbody>\n",
       "</table>\n",
       "</div>"
      ],
      "text/plain": [
       "                acc  precision_p  recall_p  f1_score_p  precision_n  recall_n  \\\n",
       "threshold                                                                       \n",
       "0.00       0.421102     0.421102  1.000000    0.592642          NaN  0.000000   \n",
       "0.01       0.488137     0.451346  0.999702    0.621911     0.998134  0.116014   \n",
       "0.02       0.527994     0.471490  0.999553    0.640741     0.998245  0.184972   \n",
       "0.03       0.541677     0.478817  0.998957    0.647349     0.996382  0.209043   \n",
       "0.04       0.559440     0.488683  0.997615    0.656016     0.992844  0.240703   \n",
       "\n",
       "           f1_score_n  \n",
       "threshold              \n",
       "0.00              NaN  \n",
       "0.01         0.207868  \n",
       "0.02         0.312111  \n",
       "0.03         0.345582  \n",
       "0.04         0.387468  "
      ]
     },
     "execution_count": 140,
     "metadata": {},
     "output_type": "execute_result"
    }
   ],
   "source": [
    "N = 100 \n",
    "frames = []\n",
    "\n",
    "for r in range(N + 1):\n",
    "    thresh = r / N\n",
    "    \n",
    "    scores = compute_all_score(compute_confusion_matrix(y_test, prediction, thresh), thresh)\n",
    "    frame = pd.DataFrame([[thresh, *scores]], columns = columns_score)\n",
    "    frames.append(frame)\n",
    "    \n",
    "df_score = pd.concat(frames, ignore_index = True)\n",
    "df_score = df_score.set_index('threshold')\n",
    "df_score.head()"
   ]
  },
  {
   "cell_type": "code",
   "execution_count": 146,
   "metadata": {},
   "outputs": [
    {
     "data": {
      "image/png": "[encoded data removed]",
      "text/plain": [
       "<Figure size 864x720 with 9 Axes>"
      ]
     },
     "metadata": {
      "needs_background": "light"
     },
     "output_type": "display_data"
    }
   ],
   "source": [
    "fig, axs = plt.subplots(nrows = 3, ncols = 3, figsize = (12, 10))\n",
    "\n",
    "for idx in range(len(columns_score) - 1):\n",
    "    col = columns_score[idx + 1]\n",
    "    \n",
    "    subplt = axs[idx // 3, idx % 3]\n",
    "    df_score[col].plot(ax = subplt)\n",
    "    subplt.set_title(col)\n",
    "    \n",
    "fig.tight_layout(pad=3.0)"
   ]
  },
  {
   "cell_type": "markdown",
   "metadata": {},
   "source": [
    "D) Plot in a bar chart the coefficients of the logistic regression sorted by their contribution to the prediction."
   ]
  },
  {
   "cell_type": "code",
   "execution_count": 147,
   "metadata": {
    "tags": []
   },
   "outputs": [
    {
     "data": {
      "text/html": [
       "<div>\n",
       "<style scoped>\n",
       "    .dataframe tbody tr th:only-of-type {\n",
       "        vertical-align: middle;\n",
       "    }\n",
       "\n",
       "    .dataframe tbody tr th {\n",
       "        vertical-align: top;\n",
       "    }\n",
       "\n",
       "    .dataframe thead th {\n",
       "        text-align: right;\n",
       "    }\n",
       "</style>\n",
       "<table border=\"1\" class=\"dataframe\">\n",
       "  <thead>\n",
       "    <tr style=\"text-align: right;\">\n",
       "      <th></th>\n",
       "      <th>name</th>\n",
       "      <th>value</th>\n",
       "    </tr>\n",
       "  </thead>\n",
       "  <tbody>\n",
       "    <tr>\n",
       "      <th>21</th>\n",
       "      <td>intake_type_Wildlife</td>\n",
       "      <td>-1.975241</td>\n",
       "    </tr>\n",
       "    <tr>\n",
       "      <th>2</th>\n",
       "      <td>age_upon_intake_(years)</td>\n",
       "      <td>-1.801526</td>\n",
       "    </tr>\n",
       "    <tr>\n",
       "      <th>28</th>\n",
       "      <td>sex_upon_outcome_Intact Male</td>\n",
       "      <td>-1.638007</td>\n",
       "    </tr>\n",
       "    <tr>\n",
       "      <th>27</th>\n",
       "      <td>sex_upon_outcome_Intact Female</td>\n",
       "      <td>-1.435351</td>\n",
       "    </tr>\n",
       "    <tr>\n",
       "      <th>10</th>\n",
       "      <td>intake_condition_Feral</td>\n",
       "      <td>-1.359841</td>\n",
       "    </tr>\n",
       "  </tbody>\n",
       "</table>\n",
       "</div>"
      ],
      "text/plain": [
       "                              name     value\n",
       "21            intake_type_Wildlife -1.975241\n",
       "2          age_upon_intake_(years) -1.801526\n",
       "28    sex_upon_outcome_Intact Male -1.638007\n",
       "27  sex_upon_outcome_Intact Female -1.435351\n",
       "10          intake_condition_Feral -1.359841"
      ]
     },
     "execution_count": 147,
     "metadata": {},
     "output_type": "execute_result"
    }
   ],
   "source": [
    "coeffs = []\n",
    "for name, value in zip(X_train.columns, logistic.coef_[0]):\n",
    "    coeffs.append({'name': name, 'value': value})\n",
    "    \n",
    "features_coeff = pd.DataFrame(coeffs).sort_values(by = 'value')\n",
    "features_coeff.head()"
   ]
  },
  {
   "cell_type": "code",
   "execution_count": 152,
   "metadata": {},
   "outputs": [
    {
     "data": {
      "text/plain": [
       "<BarContainer object of 32 artists>"
      ]
     },
     "execution_count": 152,
     "metadata": {},
     "output_type": "execute_result"
    },
    {
     "data": {
      "image/png": "[encoded data removed]",
      "text/plain": [
       "<Figure size 432x720 with 1 Axes>"
      ]
     },
     "metadata": {
      "needs_background": "light"
     },
     "output_type": "display_data"
    }
   ],
   "source": [
    "plt.subplots(figsize = (6, 10))\n",
    "plt.barh(features_coeff.name, features_coeff.value, alpha=0.6)"
   ]
  },
  {
   "cell_type": "markdown",
   "metadata": {},
   "source": [
    "\n",
    "Question 1: Which of the following metrics is most suitable when you are dealing with unbalanced classes?\n",
    "\n",
    "- a) F1 Score\n",
    "- b) Recall\n",
    "- c) Precision\n",
    "- d) Accuracy"
   ]
  },
  {
   "cell_type": "markdown",
   "metadata": {
    "jupyter": {
     "outputs_hidden": true
    }
   },
   "source": [
    "$\\implies$ **a)**"
   ]
  },
  {
   "cell_type": "markdown",
   "metadata": {},
   "source": [
    "Question 2: You are working on a binary classification problem. You trained a model on a training dataset and got the following confusion matrix on the test dataset. What is true about the evaluation metrics (rounded to the second decimal point):\n",
    "\n",
    "|            | Pred = NO|Pred=YES|\n",
    "|------------|----------|--------|\n",
    "| Actual NO  |    50    |   10   |\n",
    "| Actual YES |    5     |   100  |\n",
    "\n",
    "- a) Accuracy is 0.95\n",
    "- b) Accuracy is 0.85\n",
    "- c) False positive rate is 0.95\n",
    "- d) True positive rate is 0.95"
   ]
  },
  {
   "cell_type": "markdown",
   "metadata": {
    "jupyter": {
     "outputs_hidden": true
    }
   },
   "source": [
    "$\\implies$  **d)**"
   ]
  }
 ],
 "metadata": {
  "kernelspec": {
   "display_name": "Python 3 (ipykernel)",
   "language": "python",
   "name": "python3"
  },
  "language_info": {
   "codemirror_mode": {
    "name": "ipython",
    "version": 3
   },
   "file_extension": ".py",
   "mimetype": "text/x-python",
   "name": "python",
   "nbconvert_exporter": "python",
   "pygments_lexer": "ipython3",
   "version": "3.8.11"
  },
  "varInspector": {
   "cols": {
    "lenName": 16,
    "lenType": 16,
    "lenVar": 40
   },
   "kernels_config": {
    "python": {
     "delete_cmd_postfix": "",
     "delete_cmd_prefix": "del ",
     "library": "var_list.py",
     "varRefreshCmd": "print(var_dic_list())"
    },
    "r": {
     "delete_cmd_postfix": ") ",
     "delete_cmd_prefix": "rm(",
     "library": "var_list.r",
     "varRefreshCmd": "cat(var_dic_list()) "
    }
   },
   "types_to_exclude": [
    "module",
    "function",
    "builtin_function_or_method",
    "instance",
    "_Feature"
   ],
   "window_display": false
  }
 },
 "nbformat": 4,
 "nbformat_minor": 4
}
