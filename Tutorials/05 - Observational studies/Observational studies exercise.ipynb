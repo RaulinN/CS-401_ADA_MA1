{
 "cells": [
  {
   "cell_type": "markdown",
   "metadata": {},
   "source": [
    "# Observational Studies\n",
    "\n",
    "Welcome to the exercise about observational studies! This exercise will be hands on, and you will be able to practise the skills you developed so far!"
   ]
  },
  {
   "cell_type": "markdown",
   "metadata": {},
   "source": [
    "## Propensity score matching\n",
    "\n",
    "In this exercise, you will apply [propensity score matching](http://www.stewartschultz.com/statistics/books/Design%20of%20observational%20studies.pdf), which we discussed in lecture 6 (\"Observational studies\"), in order to draw conclusions from an observational study.\n",
    "\n",
    "We will work with a by-now classic dataset from Robert LaLonde's study \"[Evaluating the Econometric Evaluations of Training Programs](http://people.hbs.edu/nashraf/LaLonde_1986.pdf)\" (1986).\n",
    "The study investigated the effect of a job training program (\"National Supported Work Demonstration\") on the real earnings of an individual, a couple of years after completion of the program.\n",
    "Your task is to determine the effectiveness of the \"treatment\" represented by the job training program."
   ]
  },
  {
   "cell_type": "markdown",
   "metadata": {},
   "source": [
    "#### Dataset description\n",
    "\n",
    "- `treat`: 1 if the subject participated in the job training program, 0 otherwise\n",
    "- `age`: the subject's age\n",
    "- `educ`: years of education\n",
    "- `race`: categorical variable with three possible values: Black, Hispanic, or White\n",
    "- `married`: 1 if the subject was married at the time of the training program, 0 otherwise\n",
    "- `nodegree`: 1 if the subject has earned no school degree, 0 otherwise\n",
    "- `re74`: real earnings in 1974 (pre-treatment)\n",
    "- `re75`: real earnings in 1975 (pre-treatment)\n",
    "- `re78`: real earnings in 1978 (outcome)"
   ]
  },
  {
   "cell_type": "markdown",
   "metadata": {},
   "source": [
    "If you want to deepen your knowledge on propensity scores and observational studies, we highly recommend Rosenbaum's excellent book on the [\"Design of Observational Studies\"](http://www.stewartschultz.com/statistics/books/Design%20of%20observational%20studies.pdf). Even just reading the first chapter (18 pages) will help you a lot."
   ]
  },
  {
   "cell_type": "code",
   "execution_count": 1,
   "metadata": {
    "tags": []
   },
   "outputs": [],
   "source": [
    "import pandas as pd\n",
    "import pandas as pd\n",
    "import numpy as np\n",
    "import matplotlib.pyplot as plt\n",
    "import seaborn as sns\n",
    "import networkx as nx\n",
    "%matplotlib inline\n",
    "\n",
    "data_folder = './data/'\n",
    "df = pd.read_csv(data_folder + 'lalonde.csv')"
   ]
  },
  {
   "cell_type": "code",
   "execution_count": 2,
   "metadata": {},
   "outputs": [
    {
     "data": {
      "text/html": [
       "<div>\n",
       "<style scoped>\n",
       "    .dataframe tbody tr th:only-of-type {\n",
       "        vertical-align: middle;\n",
       "    }\n",
       "\n",
       "    .dataframe tbody tr th {\n",
       "        vertical-align: top;\n",
       "    }\n",
       "\n",
       "    .dataframe thead th {\n",
       "        text-align: right;\n",
       "    }\n",
       "</style>\n",
       "<table border=\"1\" class=\"dataframe\">\n",
       "  <thead>\n",
       "    <tr style=\"text-align: right;\">\n",
       "      <th></th>\n",
       "      <th>id</th>\n",
       "      <th>treat</th>\n",
       "      <th>age</th>\n",
       "      <th>educ</th>\n",
       "      <th>black</th>\n",
       "      <th>hispan</th>\n",
       "      <th>married</th>\n",
       "      <th>nodegree</th>\n",
       "      <th>re74</th>\n",
       "      <th>re75</th>\n",
       "      <th>re78</th>\n",
       "    </tr>\n",
       "  </thead>\n",
       "  <tbody>\n",
       "    <tr>\n",
       "      <th>320</th>\n",
       "      <td>PSID136</td>\n",
       "      <td>0</td>\n",
       "      <td>20</td>\n",
       "      <td>11</td>\n",
       "      <td>0</td>\n",
       "      <td>1</td>\n",
       "      <td>0</td>\n",
       "      <td>1</td>\n",
       "      <td>2868.367</td>\n",
       "      <td>2968.355</td>\n",
       "      <td>7403.410</td>\n",
       "    </tr>\n",
       "    <tr>\n",
       "      <th>271</th>\n",
       "      <td>PSID87</td>\n",
       "      <td>0</td>\n",
       "      <td>48</td>\n",
       "      <td>7</td>\n",
       "      <td>0</td>\n",
       "      <td>0</td>\n",
       "      <td>1</td>\n",
       "      <td>1</td>\n",
       "      <td>13326.930</td>\n",
       "      <td>4636.935</td>\n",
       "      <td>0.000</td>\n",
       "    </tr>\n",
       "    <tr>\n",
       "      <th>363</th>\n",
       "      <td>PSID179</td>\n",
       "      <td>0</td>\n",
       "      <td>18</td>\n",
       "      <td>11</td>\n",
       "      <td>1</td>\n",
       "      <td>0</td>\n",
       "      <td>0</td>\n",
       "      <td>1</td>\n",
       "      <td>2068.986</td>\n",
       "      <td>1623.823</td>\n",
       "      <td>20243.380</td>\n",
       "    </tr>\n",
       "    <tr>\n",
       "      <th>182</th>\n",
       "      <td>NSW183</td>\n",
       "      <td>1</td>\n",
       "      <td>35</td>\n",
       "      <td>9</td>\n",
       "      <td>1</td>\n",
       "      <td>0</td>\n",
       "      <td>1</td>\n",
       "      <td>1</td>\n",
       "      <td>13602.430</td>\n",
       "      <td>13830.640</td>\n",
       "      <td>12803.970</td>\n",
       "    </tr>\n",
       "    <tr>\n",
       "      <th>608</th>\n",
       "      <td>PSID424</td>\n",
       "      <td>0</td>\n",
       "      <td>25</td>\n",
       "      <td>14</td>\n",
       "      <td>0</td>\n",
       "      <td>0</td>\n",
       "      <td>0</td>\n",
       "      <td>0</td>\n",
       "      <td>0.000</td>\n",
       "      <td>0.000</td>\n",
       "      <td>0.000</td>\n",
       "    </tr>\n",
       "    <tr>\n",
       "      <th>378</th>\n",
       "      <td>PSID194</td>\n",
       "      <td>0</td>\n",
       "      <td>28</td>\n",
       "      <td>10</td>\n",
       "      <td>0</td>\n",
       "      <td>0</td>\n",
       "      <td>1</td>\n",
       "      <td>1</td>\n",
       "      <td>7578.444</td>\n",
       "      <td>1383.919</td>\n",
       "      <td>2404.261</td>\n",
       "    </tr>\n",
       "    <tr>\n",
       "      <th>67</th>\n",
       "      <td>NSW68</td>\n",
       "      <td>1</td>\n",
       "      <td>23</td>\n",
       "      <td>7</td>\n",
       "      <td>0</td>\n",
       "      <td>0</td>\n",
       "      <td>0</td>\n",
       "      <td>1</td>\n",
       "      <td>0.000</td>\n",
       "      <td>0.000</td>\n",
       "      <td>0.000</td>\n",
       "    </tr>\n",
       "    <tr>\n",
       "      <th>51</th>\n",
       "      <td>NSW52</td>\n",
       "      <td>1</td>\n",
       "      <td>31</td>\n",
       "      <td>11</td>\n",
       "      <td>1</td>\n",
       "      <td>0</td>\n",
       "      <td>1</td>\n",
       "      <td>1</td>\n",
       "      <td>0.000</td>\n",
       "      <td>0.000</td>\n",
       "      <td>8087.487</td>\n",
       "    </tr>\n",
       "    <tr>\n",
       "      <th>236</th>\n",
       "      <td>PSID52</td>\n",
       "      <td>0</td>\n",
       "      <td>25</td>\n",
       "      <td>13</td>\n",
       "      <td>0</td>\n",
       "      <td>0</td>\n",
       "      <td>1</td>\n",
       "      <td>0</td>\n",
       "      <td>19259.590</td>\n",
       "      <td>6652.839</td>\n",
       "      <td>13015.820</td>\n",
       "    </tr>\n",
       "    <tr>\n",
       "      <th>40</th>\n",
       "      <td>NSW41</td>\n",
       "      <td>1</td>\n",
       "      <td>21</td>\n",
       "      <td>12</td>\n",
       "      <td>1</td>\n",
       "      <td>0</td>\n",
       "      <td>0</td>\n",
       "      <td>0</td>\n",
       "      <td>0.000</td>\n",
       "      <td>0.000</td>\n",
       "      <td>1254.582</td>\n",
       "    </tr>\n",
       "  </tbody>\n",
       "</table>\n",
       "</div>"
      ],
      "text/plain": [
       "          id  treat  age  educ  black  hispan  married  nodegree       re74  \\\n",
       "320  PSID136      0   20    11      0       1        0         1   2868.367   \n",
       "271   PSID87      0   48     7      0       0        1         1  13326.930   \n",
       "363  PSID179      0   18    11      1       0        0         1   2068.986   \n",
       "182   NSW183      1   35     9      1       0        1         1  13602.430   \n",
       "608  PSID424      0   25    14      0       0        0         0      0.000   \n",
       "378  PSID194      0   28    10      0       0        1         1   7578.444   \n",
       "67     NSW68      1   23     7      0       0        0         1      0.000   \n",
       "51     NSW52      1   31    11      1       0        1         1      0.000   \n",
       "236   PSID52      0   25    13      0       0        1         0  19259.590   \n",
       "40     NSW41      1   21    12      1       0        0         0      0.000   \n",
       "\n",
       "          re75       re78  \n",
       "320   2968.355   7403.410  \n",
       "271   4636.935      0.000  \n",
       "363   1623.823  20243.380  \n",
       "182  13830.640  12803.970  \n",
       "608      0.000      0.000  \n",
       "378   1383.919   2404.261  \n",
       "67       0.000      0.000  \n",
       "51       0.000   8087.487  \n",
       "236   6652.839  13015.820  \n",
       "40       0.000   1254.582  "
      ]
     },
     "execution_count": 2,
     "metadata": {},
     "output_type": "execute_result"
    }
   ],
   "source": [
    "df.sample(10)"
   ]
  },
  {
   "cell_type": "markdown",
   "metadata": {},
   "source": [
    "## 1. A naive analysis\n",
    "\n",
    "Compare the distribution of the outcome variable (`re78`) between the two groups, using plots and numbers.\n",
    "To summarize and compare the distributions, you may use the techniques we discussed in lecture 4 (\"Descibing data\") and 3 (\"Visualizing data\").\n",
    "\n",
    "What might a naive \"researcher\" conclude from this superficial analysis?"
   ]
  },
  {
   "cell_type": "code",
   "execution_count": 3,
   "metadata": {
    "tags": []
   },
   "outputs": [],
   "source": [
    "treated = df[df.treat == 1]\n",
    "control = df[df.treat == 0]"
   ]
  },
  {
   "cell_type": "code",
   "execution_count": 4,
   "metadata": {},
   "outputs": [
    {
     "data": {
      "text/plain": [
       "count      185.000000\n",
       "mean      6349.143530\n",
       "std       7867.402218\n",
       "min          0.000000\n",
       "25%        485.229800\n",
       "50%       4232.309000\n",
       "75%       9642.999000\n",
       "max      60307.930000\n",
       "Name: re78, dtype: float64"
      ]
     },
     "execution_count": 4,
     "metadata": {},
     "output_type": "execute_result"
    }
   ],
   "source": [
    "treated.re78.describe()"
   ]
  },
  {
   "cell_type": "code",
   "execution_count": 5,
   "metadata": {},
   "outputs": [
    {
     "data": {
      "text/plain": [
       "count      429.000000\n",
       "mean      6984.169742\n",
       "std       7294.161791\n",
       "min          0.000000\n",
       "25%        220.181300\n",
       "50%       4975.505000\n",
       "75%      11688.820000\n",
       "max      25564.670000\n",
       "Name: re78, dtype: float64"
      ]
     },
     "execution_count": 5,
     "metadata": {},
     "output_type": "execute_result"
    }
   ],
   "source": [
    "control.re78.describe()"
   ]
  },
  {
   "cell_type": "code",
   "execution_count": 33,
   "metadata": {},
   "outputs": [
    {
     "data": {
      "text/plain": [
       "Text(0, 0.5, 'Income density')"
      ]
     },
     "execution_count": 33,
     "metadata": {},
     "output_type": "execute_result"
    },
    {
     "data": {
      "image/png": "[encoded data removed]",
      "text/plain": [
       "<Figure size 432x288 with 1 Axes>"
      ]
     },
     "metadata": {
      "needs_background": "light"
     },
     "output_type": "display_data"
    }
   ],
   "source": [
    "#ax = sns.distplot(treated.re78, hist=True, label='treated') # deprecated\n",
    "#ax = sns.distplot(control.re78, hist=True, label='control') # deprecated\n",
    "\n",
    "ax = sns.histplot(data = control.re78, color = 'green', log_scale = (False, True))\n",
    "ax = sns.histplot(data = treated.re78, color = 'orange', log_scale = (False, True))\n",
    "\n",
    "ax.set_title('Income distribution comparison in 1978')\n",
    "ax.set_xlabel('Income 1978')\n",
    "ax.set_ylabel('Income density')"
   ]
  },
  {
   "cell_type": "markdown",
   "metadata": {},
   "source": [
    "## 2. A closer look at the data\n",
    "\n",
    "You're not naive, of course (and even if you are, you've learned certain things in ADA), so you aren't content with a superficial analysis such as the above.\n",
    "You're aware of the dangers of observational studies, so you take a closer look at the data before jumping to conclusions.\n",
    "\n",
    "For each feature in the dataset, compare its distribution in the treated group with its distribution in the control group, using plots and numbers.\n",
    "As above, you may use the techniques we discussed in class for summarizing and comparing the distributions.\n",
    "\n",
    "What do you observe?\n",
    "Describe what your observations mean for the conclusions drawn by the naive \"researcher\" from his superficial analysis."
   ]
  },
  {
   "cell_type": "code",
   "execution_count": 35,
   "metadata": {
    "tags": []
   },
   "outputs": [
    {
     "data": {
      "text/plain": [
       "Index(['id', 'treat', 'age', 'educ', 'black', 'hispan', 'married', 'nodegree',\n",
       "       're74', 're75', 're78'],\n",
       "      dtype='object')"
      ]
     },
     "execution_count": 35,
     "metadata": {},
     "output_type": "execute_result"
    }
   ],
   "source": [
    "df.columns"
   ]
  },
  {
   "cell_type": "code",
   "execution_count": 42,
   "metadata": {},
   "outputs": [
    {
     "data": {
      "text/plain": [
       "<AxesSubplot:title={'center':'educ'}, xlabel='treat'>"
      ]
     },
     "execution_count": 42,
     "metadata": {},
     "output_type": "execute_result"
    },
    {
     "data": {
      "image/png": "[encoded data removed]",
      "text/plain": [
       "<Figure size 360x360 with 1 Axes>"
      ]
     },
     "metadata": {
      "needs_background": "light"
     },
     "output_type": "display_data"
    },
    {
     "data": {
      "image/png": "[encoded data removed]",
      "text/plain": [
       "<Figure size 360x360 with 1 Axes>"
      ]
     },
     "metadata": {
      "needs_background": "light"
     },
     "output_type": "display_data"
    }
   ],
   "source": [
    "df.boxplot(by = 'treat', column = 'age', figsize = [5, 5])\n",
    "df.boxplot(by = 'treat', column = 'educ', figsize = [5, 5])"
   ]
  },
  {
   "cell_type": "code",
   "execution_count": 62,
   "metadata": {},
   "outputs": [
    {
     "data": {
      "text/plain": [
       "<AxesSubplot:xlabel='treat'>"
      ]
     },
     "execution_count": 62,
     "metadata": {},
     "output_type": "execute_result"
    },
    {
     "data": {
      "image/png": "[encoded data removed]",
      "text/plain": [
       "<Figure size 432x288 with 1 Axes>"
      ]
     },
     "metadata": {
      "needs_background": "light"
     },
     "output_type": "display_data"
    },
    {
     "data": {
      "image/png": "[encoded data removed]",
      "text/plain": [
       "<Figure size 432x288 with 1 Axes>"
      ]
     },
     "metadata": {
      "needs_background": "light"
     },
     "output_type": "display_data"
    },
    {
     "data": {
      "image/png": "[encoded data removed]",
      "text/plain": [
       "<Figure size 432x288 with 1 Axes>"
      ]
     },
     "metadata": {
      "needs_background": "light"
     },
     "output_type": "display_data"
    },
    {
     "data": {
      "image/png": "[encoded data removed]",
      "text/plain": [
       "<Figure size 432x288 with 1 Axes>"
      ]
     },
     "metadata": {
      "needs_background": "light"
     },
     "output_type": "display_data"
    }
   ],
   "source": [
    "group = df.groupby(['treat', 'married'])['married'].count()\n",
    "group.unstack().plot(kind='bar')\n",
    "\n",
    "group = df.groupby(['treat', 'nodegree'])['nodegree'].count()\n",
    "group.unstack().plot(kind='bar')\n",
    "\n",
    "group = df.groupby(['treat', 'black'])['black'].count()\n",
    "group.unstack().plot(kind='bar')\n",
    "\n",
    "group = df.groupby(['treat', 'hispan'])['hispan'].count()\n",
    "group.unstack().plot(kind='bar')"
   ]
  },
  {
   "cell_type": "markdown",
   "metadata": {},
   "source": [
    "## 3. A propensity score model\n",
    "\n",
    "Use logistic regression to estimate propensity scores for all points in the dataset.\n",
    "You may use `statsmodels` to fit the logistic regression model and apply it to each data point to obtain propensity scores.\n",
    "\n",
    "Recall that the propensity score of a data point represents its probability of receiving the treatment, based on its pre-treatment features (in this case, age, education, pre-treatment income, etc.).\n",
    "To brush up on propensity scores, you may read chapter 3.3 of the above-cited book by Rosenbaum or [this article](https://www.ncbi.nlm.nih.gov/pmc/articles/PMC3144483/pdf/hmbr46-399.pdf).\n",
    "\n",
    "Note: you do not need a train/test split here. Train and apply the model on the entire dataset. If you're wondering why this is the right thing to do in this situation, recall that the propensity score model is not used in order to make predictions about unseen data. Its sole purpose is to balance the dataset across treatment groups.\n",
    "(See p. 74 of Rosenbaum's book for an explanation why slight overfitting is even good for propensity scores.\n",
    "If you want even more information, read [this article](https://www.ncbi.nlm.nih.gov/pmc/articles/PMC3144483/pdf/hmbr46-399.pdf).)"
   ]
  },
  {
   "cell_type": "code",
   "execution_count": 67,
   "metadata": {},
   "outputs": [
    {
     "name": "stdout",
     "output_type": "stream",
     "text": [
      "Optimization terminated successfully.\n",
      "         Current function value: 0.395074\n",
      "         Iterations 7\n",
      "                           Logit Regression Results                           \n",
      "==============================================================================\n",
      "Dep. Variable:                  treat   No. Observations:                  614\n",
      "Model:                          Logit   Df Residuals:                      604\n",
      "Method:                           MLE   Df Model:                            9\n",
      "Date:                Sat, 22 Jan 2022   Pseudo R-squ.:                  0.3544\n",
      "Time:                        15:41:57   Log-Likelihood:                -242.58\n",
      "converged:                       True   LL-Null:                       -375.75\n",
      "Covariance Type:            nonrobust   LLR p-value:                 3.516e-52\n",
      "====================================================================================\n",
      "                       coef    std err          z      P>|z|      [0.025      0.975]\n",
      "------------------------------------------------------------------------------------\n",
      "Intercept           -2.8501      0.352     -8.098      0.000      -3.540      -2.160\n",
      "C(black)[T.1]        3.0985      0.289     10.715      0.000       2.532       3.665\n",
      "C(hispan)[T.1]       0.9536      0.427      2.231      0.026       0.116       1.791\n",
      "C(married)[T.1]     -0.8446      0.293     -2.879      0.004      -1.420      -0.270\n",
      "C(nodegree)[T.1]     0.7034      0.339      2.075      0.038       0.039       1.368\n",
      "age                  0.1502      0.135      1.114      0.265      -0.114       0.414\n",
      "educ                 0.3922      0.172      2.282      0.022       0.055       0.729\n",
      "re74                -0.4871      0.185     -2.633      0.008      -0.850      -0.125\n",
      "re75                 0.1590      0.152      1.044      0.296      -0.139       0.457\n",
      "re78                 0.2113      0.131      1.611      0.107      -0.046       0.468\n",
      "====================================================================================\n"
     ]
    }
   ],
   "source": [
    "import statsmodels.formula.api as smf\n",
    "\n",
    "# standardizing continuous variables\n",
    "for v in ['age', 'educ', 're74', 're75', 're78']:\n",
    "    df[v] = (df[v] - df[v].mean())/df[v].std()\n",
    "\n",
    "mod = smf.logit(\n",
    "    formula = 'treat ~ age + educ + C(black) + C(hispan) + C(married) + C(nodegree) + re74 + re75 + re78', \n",
    "    data = df\n",
    ")\n",
    "res = mod.fit()\n",
    "print(res.summary())\n",
    "\n",
    "# storing result\n",
    "df['prop_score'] = res.predict()"
   ]
  },
  {
   "cell_type": "markdown",
   "metadata": {},
   "source": [
    "## 4. Balancing the dataset via matching\n",
    "\n",
    "Use the propensity scores to match each data point from the treated group with exactly one data point from the control group, while ensuring that each data point from the control group is matched with at most one data point from the treated group.\n",
    "(Hint: you may explore the `networkx` package in Python for predefined matching functions.)\n",
    "\n",
    "Your matching should maximize the similarity between matched subjects, as captured by their propensity scores.\n",
    "In other words, the sum (over all matched pairs) of absolute propensity-score differences between the two matched subjects should be minimized.\n",
    "\n",
    "This is how networkx library can help you do this. Each possible pair of (treated_person, control_person) is characterized by a similarity. This is how we can initialize a graph, and add an edge for one possible pair. We then need to add an edge for each possible pair.\n",
    "    - G = nx.Graph()\n",
    "    - G.add_weighted_edges_from([(control_person, treated_person, similarity)])\n",
    "Optimal matching is then found with:\n",
    "    - matching = nx.max_weight_matching(G)\n",
    "\n",
    "After matching, you have as many treated as you have control subjects.\n",
    "Compare the outcomes (`re78`) between the two groups (treated and control).\n",
    "\n",
    "Also, compare again the feature-value distributions between the two groups, as you've done in part 2 above, but now only for the matched subjects.\n",
    "What do you observe?\n",
    "Are you closer to being able to draw valid conclusions now than you were before?"
   ]
  },
  {
   "cell_type": "code",
   "execution_count": 69,
   "metadata": {
    "tags": []
   },
   "outputs": [
    {
     "data": {
      "text/html": [
       "<div>\n",
       "<style scoped>\n",
       "    .dataframe tbody tr th:only-of-type {\n",
       "        vertical-align: middle;\n",
       "    }\n",
       "\n",
       "    .dataframe tbody tr th {\n",
       "        vertical-align: top;\n",
       "    }\n",
       "\n",
       "    .dataframe thead th {\n",
       "        text-align: right;\n",
       "    }\n",
       "</style>\n",
       "<table border=\"1\" class=\"dataframe\">\n",
       "  <thead>\n",
       "    <tr style=\"text-align: right;\">\n",
       "      <th></th>\n",
       "      <th>id</th>\n",
       "      <th>treat</th>\n",
       "      <th>age</th>\n",
       "      <th>educ</th>\n",
       "      <th>black</th>\n",
       "      <th>hispan</th>\n",
       "      <th>married</th>\n",
       "      <th>nodegree</th>\n",
       "      <th>re74</th>\n",
       "      <th>re75</th>\n",
       "      <th>re78</th>\n",
       "      <th>prop_score</th>\n",
       "    </tr>\n",
       "  </thead>\n",
       "  <tbody>\n",
       "    <tr>\n",
       "      <th>0</th>\n",
       "      <td>NSW1</td>\n",
       "      <td>1</td>\n",
       "      <td>0.975268</td>\n",
       "      <td>0.278227</td>\n",
       "      <td>1</td>\n",
       "      <td>0</td>\n",
       "      <td>1</td>\n",
       "      <td>1</td>\n",
       "      <td>-0.703546</td>\n",
       "      <td>-0.662971</td>\n",
       "      <td>0.419934</td>\n",
       "      <td>0.665675</td>\n",
       "    </tr>\n",
       "    <tr>\n",
       "      <th>1</th>\n",
       "      <td>NSW2</td>\n",
       "      <td>1</td>\n",
       "      <td>-0.542768</td>\n",
       "      <td>-0.482714</td>\n",
       "      <td>0</td>\n",
       "      <td>1</td>\n",
       "      <td>0</td>\n",
       "      <td>1</td>\n",
       "      <td>-0.703546</td>\n",
       "      <td>-0.662971</td>\n",
       "      <td>-0.427929</td>\n",
       "      <td>0.211310</td>\n",
       "    </tr>\n",
       "    <tr>\n",
       "      <th>2</th>\n",
       "      <td>NSW3</td>\n",
       "      <td>1</td>\n",
       "      <td>0.266851</td>\n",
       "      <td>0.658697</td>\n",
       "      <td>1</td>\n",
       "      <td>0</td>\n",
       "      <td>0</td>\n",
       "      <td>0</td>\n",
       "      <td>-0.703546</td>\n",
       "      <td>-0.662971</td>\n",
       "      <td>2.425012</td>\n",
       "      <td>0.785221</td>\n",
       "    </tr>\n",
       "    <tr>\n",
       "      <th>3</th>\n",
       "      <td>NSW4</td>\n",
       "      <td>1</td>\n",
       "      <td>-0.036756</td>\n",
       "      <td>0.278227</td>\n",
       "      <td>1</td>\n",
       "      <td>0</td>\n",
       "      <td>0</td>\n",
       "      <td>1</td>\n",
       "      <td>-0.703546</td>\n",
       "      <td>-0.662971</td>\n",
       "      <td>0.095481</td>\n",
       "      <td>0.787978</td>\n",
       "    </tr>\n",
       "    <tr>\n",
       "      <th>4</th>\n",
       "      <td>NSW5</td>\n",
       "      <td>1</td>\n",
       "      <td>0.570459</td>\n",
       "      <td>-0.863185</td>\n",
       "      <td>1</td>\n",
       "      <td>0</td>\n",
       "      <td>0</td>\n",
       "      <td>1</td>\n",
       "      <td>-0.703546</td>\n",
       "      <td>-0.662971</td>\n",
       "      <td>-0.870470</td>\n",
       "      <td>0.679669</td>\n",
       "    </tr>\n",
       "  </tbody>\n",
       "</table>\n",
       "</div>"
      ],
      "text/plain": [
       "     id  treat       age      educ  black  hispan  married  nodegree  \\\n",
       "0  NSW1      1  0.975268  0.278227      1       0        1         1   \n",
       "1  NSW2      1 -0.542768 -0.482714      0       1        0         1   \n",
       "2  NSW3      1  0.266851  0.658697      1       0        0         0   \n",
       "3  NSW4      1 -0.036756  0.278227      1       0        0         1   \n",
       "4  NSW5      1  0.570459 -0.863185      1       0        0         1   \n",
       "\n",
       "       re74      re75      re78  prop_score  \n",
       "0 -0.703546 -0.662971  0.419934    0.665675  \n",
       "1 -0.703546 -0.662971 -0.427929    0.211310  \n",
       "2 -0.703546 -0.662971  2.425012    0.785221  \n",
       "3 -0.703546 -0.662971  0.095481    0.787978  \n",
       "4 -0.703546 -0.662971 -0.870470    0.679669  "
      ]
     },
     "execution_count": 69,
     "metadata": {},
     "output_type": "execute_result"
    }
   ],
   "source": [
    "df.head()"
   ]
  },
  {
   "cell_type": "code",
   "execution_count": 70,
   "metadata": {},
   "outputs": [],
   "source": [
    "# stolen from solution\n",
    "def get_similarity(propensity_score1, propensity_score2):\n",
    "    '''Calculate similarity for instances with given propensity scores'''\n",
    "    return 1-np.abs(propensity_score1-propensity_score2)"
   ]
  },
  {
   "cell_type": "code",
   "execution_count": 73,
   "metadata": {},
   "outputs": [
    {
     "name": "stdout",
     "output_type": "stream",
     "text": [
      "{(184, 260), (65, 525), (442, 82), (144, 205), (444, 109), (146, 596), (142, 391), (72, 475), (469, 47), (15, 551), (120, 415), (134, 414), (572, 87), (589, 181), (56, 595), (601, 102), (538, 119), (461, 70), (454, 95), (280, 153), (448, 54), (211, 108), (136, 471), (25, 555), (149, 215), (107, 453), (584, 143), (9, 339), (250, 127), (67, 356), (376, 59), (370, 27), (169, 348), (1, 474), (401, 45), (170, 411), (232, 32), (74, 315), (344, 111), (517, 39), (29, 511), (58, 492), (371, 147), (592, 51), (121, 594), (42, 539), (122, 229), (464, 21), (104, 532), (52, 558), (141, 526), (570, 20), (386, 165), (160, 585), (410, 3), (96, 295), (115, 397), (132, 477), (345, 139), (354, 117), (105, 380), (189, 175), (440, 10), (600, 84), (452, 158), (542, 6), (168, 518), (290, 7), (253, 77), (171, 581), (152, 357), (425, 125), (225, 79), (43, 340), (275, 110), (88, 613), (114, 421), (73, 603), (31, 423), (24, 320), (89, 355), (155, 422), (118, 455), (537, 94), (33, 341), (179, 395), (456, 178), (608, 99), (145, 283), (393, 22), (408, 138), (449, 63), (131, 302), (93, 510), (148, 565), (66, 612), (412, 126), (28, 573), (123, 316), (284, 151), (97, 590), (256, 162), (71, 199), (177, 607), (90, 523), (554, 130), (8, 243), (38, 278), (40, 458), (4, 383), (180, 389), (571, 167), (35, 324), (451, 150), (563, 172), (192, 137), (208, 133), (18, 564), (154, 519), (484, 101), (418, 55), (17, 550), (26, 342), (552, 116), (61, 263), (112, 540), (12, 462), (450, 50), (322, 75), (80, 404), (163, 268), (113, 557), (568, 161), (282, 11), (201, 23), (48, 375), (34, 294), (361, 5), (16, 569), (2, 515), (176, 588), (91, 318), (60, 367), (514, 156), (604, 37), (49, 529), (402, 76), (576, 30), (62, 230), (78, 583), (81, 609), (364, 174), (372, 44), (466, 124), (157, 366), (46, 343), (424, 173), (0, 593), (521, 14), (579, 86), (140, 606), (560, 100), (106, 363), (69, 582), (13, 559), (329, 57), (41, 575), (369, 166), (465, 182), (409, 129), (128, 561), (85, 535), (541, 159), (536, 53), (83, 437), (281, 135), (387, 183), (164, 190), (19, 373), (103, 479), (36, 334), (98, 556), (68, 311), (611, 92), (64, 368)}\n"
     ]
    }
   ],
   "source": [
    "# stolen from solution\n",
    "# Separate the treatment and control groups\n",
    "treatment_df = df[df['treat'] == 1] # with standardized values\n",
    "control_df = df[df['treat'] == 0]   # with standardized values\n",
    "\n",
    "# Create an empty undirected graph\n",
    "G = nx.Graph()\n",
    "\n",
    "# Loop through all the pairs of instances\n",
    "for control_id, control_row in control_df.iterrows():\n",
    "    for treatment_id, treatment_row in treatment_df.iterrows():\n",
    "\n",
    "        # Calculate the similarity \n",
    "        similarity = get_similarity(control_row['prop_score'], treatment_row['prop_score'])\n",
    "\n",
    "        # Add an edge between the two instances weighted by the similarity between them\n",
    "        G.add_weighted_edges_from([(control_id, treatment_id, similarity)])\n",
    "\n",
    "# Generate and return the maximum weight matching on the generated graph\n",
    "matching = nx.max_weight_matching(G)\n",
    "print(matching)"
   ]
  },
  {
   "cell_type": "code",
   "execution_count": 74,
   "metadata": {},
   "outputs": [],
   "source": [
    "matched = [i[0] for i in list(matching)] + [i[1] for i in list(matching)]"
   ]
  },
  {
   "cell_type": "code",
   "execution_count": 76,
   "metadata": {},
   "outputs": [
    {
     "data": {
      "text/html": [
       "<div>\n",
       "<style scoped>\n",
       "    .dataframe tbody tr th:only-of-type {\n",
       "        vertical-align: middle;\n",
       "    }\n",
       "\n",
       "    .dataframe tbody tr th {\n",
       "        vertical-align: top;\n",
       "    }\n",
       "\n",
       "    .dataframe thead th {\n",
       "        text-align: right;\n",
       "    }\n",
       "</style>\n",
       "<table border=\"1\" class=\"dataframe\">\n",
       "  <thead>\n",
       "    <tr style=\"text-align: right;\">\n",
       "      <th></th>\n",
       "      <th>id</th>\n",
       "      <th>treat</th>\n",
       "      <th>age</th>\n",
       "      <th>educ</th>\n",
       "      <th>black</th>\n",
       "      <th>hispan</th>\n",
       "      <th>married</th>\n",
       "      <th>nodegree</th>\n",
       "      <th>re74</th>\n",
       "      <th>re75</th>\n",
       "      <th>re78</th>\n",
       "      <th>prop_score</th>\n",
       "    </tr>\n",
       "  </thead>\n",
       "  <tbody>\n",
       "    <tr>\n",
       "      <th>184</th>\n",
       "      <td>NSW185</td>\n",
       "      <td>1</td>\n",
       "      <td>0.570459</td>\n",
       "      <td>0.278227</td>\n",
       "      <td>1</td>\n",
       "      <td>0</td>\n",
       "      <td>1</td>\n",
       "      <td>1</td>\n",
       "      <td>1.559620</td>\n",
       "      <td>6.965879</td>\n",
       "      <td>-0.349483</td>\n",
       "      <td>0.640157</td>\n",
       "    </tr>\n",
       "    <tr>\n",
       "      <th>65</th>\n",
       "      <td>NSW66</td>\n",
       "      <td>1</td>\n",
       "      <td>0.064446</td>\n",
       "      <td>-0.482714</td>\n",
       "      <td>1</td>\n",
       "      <td>0</td>\n",
       "      <td>0</td>\n",
       "      <td>1</td>\n",
       "      <td>-0.703546</td>\n",
       "      <td>-0.662971</td>\n",
       "      <td>0.522232</td>\n",
       "      <td>0.753935</td>\n",
       "    </tr>\n",
       "    <tr>\n",
       "      <th>442</th>\n",
       "      <td>PSID258</td>\n",
       "      <td>0</td>\n",
       "      <td>-0.947578</td>\n",
       "      <td>-0.102244</td>\n",
       "      <td>0</td>\n",
       "      <td>0</td>\n",
       "      <td>0</td>\n",
       "      <td>1</td>\n",
       "      <td>-0.703546</td>\n",
       "      <td>-0.545632</td>\n",
       "      <td>-0.909260</td>\n",
       "      <td>0.094039</td>\n",
       "    </tr>\n",
       "    <tr>\n",
       "      <th>144</th>\n",
       "      <td>NSW145</td>\n",
       "      <td>1</td>\n",
       "      <td>0.368054</td>\n",
       "      <td>0.658697</td>\n",
       "      <td>0</td>\n",
       "      <td>0</td>\n",
       "      <td>0</td>\n",
       "      <td>0</td>\n",
       "      <td>-0.703546</td>\n",
       "      <td>0.129345</td>\n",
       "      <td>-0.576689</td>\n",
       "      <td>0.091530</td>\n",
       "    </tr>\n",
       "    <tr>\n",
       "      <th>444</th>\n",
       "      <td>PSID260</td>\n",
       "      <td>0</td>\n",
       "      <td>-0.340363</td>\n",
       "      <td>0.658697</td>\n",
       "      <td>1</td>\n",
       "      <td>0</td>\n",
       "      <td>1</td>\n",
       "      <td>0</td>\n",
       "      <td>-0.050252</td>\n",
       "      <td>-0.565732</td>\n",
       "      <td>-0.738754</td>\n",
       "      <td>0.351930</td>\n",
       "    </tr>\n",
       "  </tbody>\n",
       "</table>\n",
       "</div>"
      ],
      "text/plain": [
       "          id  treat       age      educ  black  hispan  married  nodegree  \\\n",
       "184   NSW185      1  0.570459  0.278227      1       0        1         1   \n",
       "65     NSW66      1  0.064446 -0.482714      1       0        0         1   \n",
       "442  PSID258      0 -0.947578 -0.102244      0       0        0         1   \n",
       "144   NSW145      1  0.368054  0.658697      0       0        0         0   \n",
       "444  PSID260      0 -0.340363  0.658697      1       0        1         0   \n",
       "\n",
       "         re74      re75      re78  prop_score  \n",
       "184  1.559620  6.965879 -0.349483    0.640157  \n",
       "65  -0.703546 -0.662971  0.522232    0.753935  \n",
       "442 -0.703546 -0.545632 -0.909260    0.094039  \n",
       "144 -0.703546  0.129345 -0.576689    0.091530  \n",
       "444 -0.050252 -0.565732 -0.738754    0.351930  "
      ]
     },
     "execution_count": 76,
     "metadata": {},
     "output_type": "execute_result"
    }
   ],
   "source": [
    "balanced_df = df.iloc[matched]\n",
    "balanced_df.head()"
   ]
  },
  {
   "cell_type": "code",
   "execution_count": 77,
   "metadata": {},
   "outputs": [
    {
     "data": {
      "text/plain": [
       "<AxesSubplot:title={'center':'educ'}, xlabel='treat'>"
      ]
     },
     "execution_count": 77,
     "metadata": {},
     "output_type": "execute_result"
    },
    {
     "data": {
      "image/png": "[encoded data removed]",
      "text/plain": [
       "<Figure size 360x360 with 1 Axes>"
      ]
     },
     "metadata": {
      "needs_background": "light"
     },
     "output_type": "display_data"
    },
    {
     "data": {
      "image/png": "[encoded data removed]",
      "text/plain": [
       "<Figure size 360x360 with 1 Axes>"
      ]
     },
     "metadata": {
      "needs_background": "light"
     },
     "output_type": "display_data"
    }
   ],
   "source": [
    "balanced_df.boxplot(by = 'treat', column = 'age', figsize = [5, 5])\n",
    "balanced_df.boxplot(by = 'treat', column = 'educ', figsize = [5, 5])"
   ]
  },
  {
   "cell_type": "code",
   "execution_count": 78,
   "metadata": {},
   "outputs": [
    {
     "data": {
      "text/plain": [
       "<AxesSubplot:xlabel='treat'>"
      ]
     },
     "execution_count": 78,
     "metadata": {},
     "output_type": "execute_result"
    },
    {
     "data": {
      "image/png": "[encoded data removed]",
      "text/plain": [
       "<Figure size 432x288 with 1 Axes>"
      ]
     },
     "metadata": {
      "needs_background": "light"
     },
     "output_type": "display_data"
    },
    {
     "data": {
      "image/png": "[encoded data removed]",
      "text/plain": [
       "<Figure size 432x288 with 1 Axes>"
      ]
     },
     "metadata": {
      "needs_background": "light"
     },
     "output_type": "display_data"
    },
    {
     "data": {
      "image/png": "[encoded data removed]",
      "text/plain": [
       "<Figure size 432x288 with 1 Axes>"
      ]
     },
     "metadata": {
      "needs_background": "light"
     },
     "output_type": "display_data"
    },
    {
     "data": {
      "image/png": "[encoded data removed]",
      "text/plain": [
       "<Figure size 432x288 with 1 Axes>"
      ]
     },
     "metadata": {
      "needs_background": "light"
     },
     "output_type": "display_data"
    }
   ],
   "source": [
    "group = balanced_df.groupby(['treat', 'married'])['married'].count()\n",
    "group.unstack().plot(kind='bar')\n",
    "\n",
    "group = balanced_df.groupby(['treat', 'nodegree'])['nodegree'].count()\n",
    "group.unstack().plot(kind='bar')\n",
    "\n",
    "group = balanced_df.groupby(['treat', 'black'])['black'].count()\n",
    "group.unstack().plot(kind='bar')\n",
    "\n",
    "group = balanced_df.groupby(['treat', 'hispan'])['hispan'].count()\n",
    "group.unstack().plot(kind='bar')"
   ]
  },
  {
   "cell_type": "markdown",
   "metadata": {},
   "source": [
    "$\\implies$ race (black and hispan) is not balanced! "
   ]
  },
  {
   "cell_type": "markdown",
   "metadata": {},
   "source": [
    "## 5. Balancing the groups further\n",
    "\n",
    "Based on your comparison of feature-value distributions from part 4, are you fully satisfied with your matching?\n",
    "Would you say your dataset is sufficiently balanced?\n",
    "If not, in what ways could the \"balanced\" dataset you have obtained still not allow you to draw valid conclusions?\n",
    "\n",
    "Improve your matching by explicitly making sure that you match only subjects that have the same value for the problematic feature.\n",
    "Argue with numbers and plots that the two groups (treated and control) are now better balanced than after part 4.\n"
   ]
  },
  {
   "cell_type": "code",
   "execution_count": 80,
   "metadata": {
    "tags": []
   },
   "outputs": [],
   "source": [
    "treatment_df = df[df['treat'] == 1]\n",
    "control_df = df[df['treat'] == 0]\n",
    "\n",
    "\n",
    "G = nx.Graph()\n",
    "\n",
    "for control_id, control_row in control_df.iterrows():\n",
    "    for treatment_id, treatment_row in treatment_df.iterrows():\n",
    "\n",
    "        # Adds an edge only if the individuals have the same race\n",
    "        if (control_row['black'] == treatment_row['black'])\\\n",
    "            and (control_row['hispan'] == treatment_row['hispan']):\n",
    "            similarity = get_similarity(control_row['prop_score'],\n",
    "                                        treatment_row['prop_score'])\n",
    "\n",
    "            G.add_weighted_edges_from([(control_id, treatment_id, similarity)])\n",
    "\n",
    "matching = nx.max_weight_matching(G)"
   ]
  },
  {
   "cell_type": "code",
   "execution_count": 81,
   "metadata": {},
   "outputs": [
    {
     "data": {
      "text/html": [
       "<div>\n",
       "<style scoped>\n",
       "    .dataframe tbody tr th:only-of-type {\n",
       "        vertical-align: middle;\n",
       "    }\n",
       "\n",
       "    .dataframe tbody tr th {\n",
       "        vertical-align: top;\n",
       "    }\n",
       "\n",
       "    .dataframe thead th {\n",
       "        text-align: right;\n",
       "    }\n",
       "</style>\n",
       "<table border=\"1\" class=\"dataframe\">\n",
       "  <thead>\n",
       "    <tr style=\"text-align: right;\">\n",
       "      <th></th>\n",
       "      <th>id</th>\n",
       "      <th>treat</th>\n",
       "      <th>age</th>\n",
       "      <th>educ</th>\n",
       "      <th>black</th>\n",
       "      <th>hispan</th>\n",
       "      <th>married</th>\n",
       "      <th>nodegree</th>\n",
       "      <th>re74</th>\n",
       "      <th>re75</th>\n",
       "      <th>re78</th>\n",
       "      <th>prop_score</th>\n",
       "    </tr>\n",
       "  </thead>\n",
       "  <tbody>\n",
       "    <tr>\n",
       "      <th>72</th>\n",
       "      <td>NSW73</td>\n",
       "      <td>1</td>\n",
       "      <td>-0.947578</td>\n",
       "      <td>-1.624126</td>\n",
       "      <td>1</td>\n",
       "      <td>0</td>\n",
       "      <td>0</td>\n",
       "      <td>1</td>\n",
       "      <td>-0.703546</td>\n",
       "      <td>-0.662971</td>\n",
       "      <td>-0.909260</td>\n",
       "      <td>0.554208</td>\n",
       "    </tr>\n",
       "    <tr>\n",
       "      <th>161</th>\n",
       "      <td>NSW162</td>\n",
       "      <td>1</td>\n",
       "      <td>0.368054</td>\n",
       "      <td>-2.385067</td>\n",
       "      <td>1</td>\n",
       "      <td>0</td>\n",
       "      <td>0</td>\n",
       "      <td>1</td>\n",
       "      <td>0.611310</td>\n",
       "      <td>0.557783</td>\n",
       "      <td>0.078937</td>\n",
       "      <td>0.469856</td>\n",
       "    </tr>\n",
       "    <tr>\n",
       "      <th>552</th>\n",
       "      <td>PSID368</td>\n",
       "      <td>0</td>\n",
       "      <td>1.278875</td>\n",
       "      <td>0.278227</td>\n",
       "      <td>1</td>\n",
       "      <td>0</td>\n",
       "      <td>1</td>\n",
       "      <td>1</td>\n",
       "      <td>-0.703546</td>\n",
       "      <td>-0.662971</td>\n",
       "      <td>-0.909260</td>\n",
       "      <td>0.611461</td>\n",
       "    </tr>\n",
       "    <tr>\n",
       "      <th>232</th>\n",
       "      <td>PSID48</td>\n",
       "      <td>0</td>\n",
       "      <td>-0.239161</td>\n",
       "      <td>0.658697</td>\n",
       "      <td>1</td>\n",
       "      <td>0</td>\n",
       "      <td>1</td>\n",
       "      <td>0</td>\n",
       "      <td>-0.657876</td>\n",
       "      <td>1.443688</td>\n",
       "      <td>-0.847545</td>\n",
       "      <td>0.499276</td>\n",
       "    </tr>\n",
       "    <tr>\n",
       "      <th>464</th>\n",
       "      <td>PSID280</td>\n",
       "      <td>0</td>\n",
       "      <td>-1.149982</td>\n",
       "      <td>-0.102244</td>\n",
       "      <td>0</td>\n",
       "      <td>0</td>\n",
       "      <td>0</td>\n",
       "      <td>1</td>\n",
       "      <td>-0.703546</td>\n",
       "      <td>-0.605388</td>\n",
       "      <td>-0.623238</td>\n",
       "      <td>0.095803</td>\n",
       "    </tr>\n",
       "  </tbody>\n",
       "</table>\n",
       "</div>"
      ],
      "text/plain": [
       "          id  treat       age      educ  black  hispan  married  nodegree  \\\n",
       "72     NSW73      1 -0.947578 -1.624126      1       0        0         1   \n",
       "161   NSW162      1  0.368054 -2.385067      1       0        0         1   \n",
       "552  PSID368      0  1.278875  0.278227      1       0        1         1   \n",
       "232   PSID48      0 -0.239161  0.658697      1       0        1         0   \n",
       "464  PSID280      0 -1.149982 -0.102244      0       0        0         1   \n",
       "\n",
       "         re74      re75      re78  prop_score  \n",
       "72  -0.703546 -0.662971 -0.909260    0.554208  \n",
       "161  0.611310  0.557783  0.078937    0.469856  \n",
       "552 -0.703546 -0.662971 -0.909260    0.611461  \n",
       "232 -0.657876  1.443688 -0.847545    0.499276  \n",
       "464 -0.703546 -0.605388 -0.623238    0.095803  "
      ]
     },
     "execution_count": 81,
     "metadata": {},
     "output_type": "execute_result"
    }
   ],
   "source": [
    "matched = [i[0] for i in list(matching)] + [i[1] for i in list(matching)]\n",
    "balanced_df = df.iloc[matched]\n",
    "balanced_df.head()"
   ]
  },
  {
   "cell_type": "code",
   "execution_count": 82,
   "metadata": {},
   "outputs": [
    {
     "data": {
      "text/plain": [
       "<AxesSubplot:xlabel='treat'>"
      ]
     },
     "execution_count": 82,
     "metadata": {},
     "output_type": "execute_result"
    },
    {
     "data": {
      "image/png": "[encoded data removed]",
      "text/plain": [
       "<Figure size 432x288 with 1 Axes>"
      ]
     },
     "metadata": {
      "needs_background": "light"
     },
     "output_type": "display_data"
    },
    {
     "data": {
      "image/png": "[encoded data removed]",
      "text/plain": [
       "<Figure size 432x288 with 1 Axes>"
      ]
     },
     "metadata": {
      "needs_background": "light"
     },
     "output_type": "display_data"
    }
   ],
   "source": [
    "group = balanced_df.groupby(['treat', 'black'])['black'].count()\n",
    "group.unstack().plot(kind='bar')\n",
    "\n",
    "group = balanced_df.groupby(['treat', 'hispan'])['hispan'].count()\n",
    "group.unstack().plot(kind='bar')"
   ]
  },
  {
   "cell_type": "markdown",
   "metadata": {},
   "source": [
    "## 6. A less naive analysis\n",
    "\n",
    "Compare the outcomes (`re78`) between treated and control subjects, as you've done in part 1, but now only for the matched dataset you've obtained from part 5.\n",
    "What do you conclude about the effectiveness of the job training program?"
   ]
  },
  {
   "cell_type": "code",
   "execution_count": 84,
   "metadata": {
    "tags": []
   },
   "outputs": [],
   "source": [
    "balanced_treated = balanced_df[balanced_df.treat == 1]\n",
    "balanced_control = balanced_df[balanced_df.treat == 0]"
   ]
  },
  {
   "cell_type": "code",
   "execution_count": 86,
   "metadata": {},
   "outputs": [
    {
     "data": {
      "text/plain": [
       "count    116.000000\n",
       "mean      -0.158900\n",
       "std        0.838743\n",
       "min       -0.909260\n",
       "25%       -0.843399\n",
       "50%       -0.379593\n",
       "75%        0.228495\n",
       "max        3.996144\n",
       "Name: re78, dtype: float64"
      ]
     },
     "execution_count": 86,
     "metadata": {},
     "output_type": "execute_result"
    }
   ],
   "source": [
    "balanced_treated.re78.describe()"
   ]
  },
  {
   "cell_type": "code",
   "execution_count": 87,
   "metadata": {},
   "outputs": [
    {
     "data": {
      "text/plain": [
       "count    116.000000\n",
       "mean      -0.123538\n",
       "std        0.907087\n",
       "min       -0.909260\n",
       "25%       -0.904809\n",
       "50%       -0.603655\n",
       "75%        0.356328\n",
       "max        2.512717\n",
       "Name: re78, dtype: float64"
      ]
     },
     "execution_count": 87,
     "metadata": {},
     "output_type": "execute_result"
    }
   ],
   "source": [
    "balanced_control.re78.describe()"
   ]
  },
  {
   "cell_type": "code",
   "execution_count": 88,
   "metadata": {},
   "outputs": [
    {
     "data": {
      "text/plain": [
       "Text(0, 0.5, 'Income density')"
      ]
     },
     "execution_count": 88,
     "metadata": {},
     "output_type": "execute_result"
    },
    {
     "data": {
      "image/png": "[encoded data removed]",
      "text/plain": [
       "<Figure size 432x288 with 1 Axes>"
      ]
     },
     "metadata": {
      "needs_background": "light"
     },
     "output_type": "display_data"
    }
   ],
   "source": [
    "ax = sns.histplot(data = balanced_control.re78, color = 'green', log_scale = (False, True))\n",
    "ax = sns.histplot(data = balanced_treated.re78, color = 'orange', log_scale = (False, True))\n",
    "\n",
    "ax.set_title('Income distribution of balanced data comparison in 1978')\n",
    "ax.set_xlabel('Income 1978')\n",
    "ax.set_ylabel('Income density')"
   ]
  },
  {
   "cell_type": "code",
   "execution_count": 100,
   "metadata": {},
   "outputs": [
    {
     "name": "stderr",
     "output_type": "stream",
     "text": [
      "/Users/wexus/opt/miniconda3/envs/ada/lib/python3.8/site-packages/seaborn/distributions.py:2619: FutureWarning: `distplot` is a deprecated function and will be removed in a future version. Please adapt your code to use either `displot` (a figure-level function with similar flexibility) or `histplot` (an axes-level function for histograms).\n",
      "  warnings.warn(msg, FutureWarning)\n",
      "/Users/wexus/opt/miniconda3/envs/ada/lib/python3.8/site-packages/seaborn/distributions.py:2619: FutureWarning: `distplot` is a deprecated function and will be removed in a future version. Please adapt your code to use either `displot` (a figure-level function with similar flexibility) or `histplot` (an axes-level function for histograms).\n",
      "  warnings.warn(msg, FutureWarning)\n"
     ]
    },
    {
     "data": {
      "text/plain": [
       "Text(0, 0.5, 'Income density')"
      ]
     },
     "execution_count": 100,
     "metadata": {},
     "output_type": "execute_result"
    },
    {
     "data": {
      "image/png": "[encoded data removed]",
      "text/plain": [
       "<Figure size 432x288 with 1 Axes>"
      ]
     },
     "metadata": {
      "needs_background": "light"
     },
     "output_type": "display_data"
    }
   ],
   "source": [
    "ax = sns.distplot(balanced_treated['re78'], hist=True, label='treated');\n",
    "ax = sns.distplot(balanced_control['re78'], hist=True, label='control')\n",
    "\n",
    "ax.set_title('Income distribution of balanced standardized data (1978)')\n",
    "ax.set_xlabel('Income 1978')\n",
    "ax.set_ylabel('Income density')"
   ]
  }
 ],
 "metadata": {
  "kernelspec": {
   "display_name": "Python 3 (ipykernel)",
   "language": "python",
   "name": "python3"
  },
  "language_info": {
   "codemirror_mode": {
    "name": "ipython",
    "version": 3
   },
   "file_extension": ".py",
   "mimetype": "text/x-python",
   "name": "python",
   "nbconvert_exporter": "python",
   "pygments_lexer": "ipython3",
   "version": "3.8.11"
  },
  "varInspector": {
   "cols": {
    "lenName": 16,
    "lenType": 16,
    "lenVar": 40
   },
   "kernels_config": {
    "python": {
     "delete_cmd_postfix": "",
     "delete_cmd_prefix": "del ",
     "library": "var_list.py",
     "varRefreshCmd": "print(var_dic_list())"
    },
    "r": {
     "delete_cmd_postfix": ") ",
     "delete_cmd_prefix": "rm(",
     "library": "var_list.r",
     "varRefreshCmd": "cat(var_dic_list()) "
    }
   },
   "types_to_exclude": [
    "module",
    "function",
    "builtin_function_or_method",
    "instance",
    "_Feature"
   ],
   "window_display": false
  }
 },
 "nbformat": 4,
 "nbformat_minor": 4
}
